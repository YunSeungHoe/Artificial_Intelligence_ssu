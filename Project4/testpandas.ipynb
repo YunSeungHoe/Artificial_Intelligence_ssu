{
 "cells": [
  {
   "cell_type": "code",
   "execution_count": 23,
   "metadata": {},
   "outputs": [],
   "source": []
  },
  {
   "cell_type": "code",
   "execution_count": 72,
   "metadata": {},
   "outputs": [
    {
     "name": "stdout",
     "output_type": "stream",
     "text": [
      "당근전 요리법\n",
      "필요한 재료 : 당근 2개, 다진 쇠고기 150g, 양파 1/2개, 당근 40g, 풋고추 1개, 식용유 2큰술, 다진 파 1큰술, 다진마늘 1/2큰술, 간장 1큰술, 소금 1작은술, 참기름 1/2 큰술, 깨소금 1/2 큰술, 후춧가루 약간\n",
      "\n",
      "1. 다진파, 다진마늘, 간장, 소금, 참기름, 깨소금, 후춧가루를 섞어 쇠고기 양념을 만든다.\n",
      "2. 당근은 껍질을 벗겨 0.5cm 두께의 원형으로 썬 후 가운데에 모양틀로 구멍을 낸다.\n",
      "3. 쇠고기는 곱게 다진다.\n",
      "4. 곱게 다진 쇠고기에 쇠고기 양념을 혼합하여 잘 반죽한다.\n",
      "5. 구멍 낸 당근에 밀가루를 묻히고 3을 채우고 프라이팬에 노릇노릇하게 지진다.\n"
     ]
    }
   ],
   "source": [
    "import pandas as pd\n",
    "import re, time\n",
    "\n",
    "WORD_COL = 0\n",
    "RULE_COL = 1\n",
    "RESP_COL = 2\n",
    "RECIPE_START_ROW = 1 \n",
    "RECIPE_END_ROW = 24\n",
    "\n",
    "\n",
    "def rule_check(com, rule):\n",
    "    for word in rule:\n",
    "        for j in range(len(word)):\n",
    "            for i in range(j, len(com), len(word)):\n",
    "                command_split = \"\".join(com[i:i+len(word)])\n",
    "                if word == command_split:\n",
    "                    # print(\"command = {}, rule = {}\".format(command_split, word))\n",
    "                    return True\n",
    "    return False\n",
    "\n",
    "def keyword_check(df, com, start_len, end_len):\n",
    "    for i in range(start_len, end_len):\n",
    "        compare_word = df.values[i][WORD_COL]\n",
    "        if re.search(compare_word, \"\".join(com)) != None:\n",
    "            return True, df.values[i][RESP_COL]\n",
    "    return False, None\n",
    "\n",
    "# pandas 엑셀의 값을 넣으면 df에 저장됨.\n",
    "df = pd.read_excel(\"artest.xlsx\")\n",
    "\n",
    "##################################################\n",
    "# 룰을 리스트에 저장 \n",
    "# 지금은 레시피와 관련된 룰만 하지만 \n",
    "# 추후, 확장의 가능성을 남겨둠\n",
    "##################################################\n",
    "recipe_rule = list(df.values[RECIPE_START_ROW][RULE_COL].split())\n",
    "\n",
    "##################################################\n",
    "# 입력을 받아 공백을 제거 \n",
    "# 한글을 처리하기 위해서는 공백을 제거할 필요가 있음\n",
    "##################################################\n",
    "# command = list(\"당근전 요리 하는방법 알려줘\".split())\n",
    "command = list(\"세상에서 제일 맛있는 당근전 요리 하는방법 알려줘\".split())\n",
    "# command = list(input().split())\n",
    "command_non_space = list(\"\".join(command))\n",
    "\n",
    "row_len = df.count()[0] # 행의 갯수 출력\n",
    "if rule_check(command_non_space, recipe_rule):\n",
    "    # 처음부터 음식단어가 들어가는 경우\n",
    "    # 중간에 움식단어가 들어가는 경우\n",
    "    keyword_flag, response = keyword_check(df, command_non_space, RECIPE_START_ROW, RECIPE_END_ROW)\n",
    "    if keyword_flag: \n",
    "        print(response)\n",
    "else: \n",
    "    # 일치하는 규칙이 없을 때!\n",
    "    print(\"아직은 레시피 기능밖에 없네요 ㅠㅠ\")"
   ]
  }
 ],
 "metadata": {
  "kernelspec": {
   "display_name": "Python 3.9.12 ('base')",
   "language": "python",
   "name": "python3"
  },
  "language_info": {
   "codemirror_mode": {
    "name": "ipython",
    "version": 3
   },
   "file_extension": ".py",
   "mimetype": "text/x-python",
   "name": "python",
   "nbconvert_exporter": "python",
   "pygments_lexer": "ipython3",
   "version": "3.9.12"
  },
  "orig_nbformat": 4,
  "vscode": {
   "interpreter": {
    "hash": "d53987ecb595d47b858fb20818fc57333593e153a0e3e1d0f7ed0487b17d3604"
   }
  }
 },
 "nbformat": 4,
 "nbformat_minor": 2
}

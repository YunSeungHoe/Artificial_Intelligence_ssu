{
 "cells": [
  {
   "cell_type": "code",
   "execution_count": null,
   "metadata": {},
   "outputs": [],
   "source": [
    "import pandas as pd\n",
    "\n",
    "# pandas 엑셀의 값을 넣으면 df에 저장됨.\n",
    "df = pd.read_excel(\"artest.xlsx\")\n",
    "# debug \n",
    "# print(df)\n",
    "\n",
    "#####################################################################\n",
    "# 입력 \n",
    "#####################################################################\n",
    "command = list(input().split())\n",
    "print(command)\n",
    "\n",
    "#####################################################################\n",
    "# 배열을 이용한 단순 비교 알고리즘 \n",
    "#####################################################################\n",
    "\n",
    "row_len = df.count()[0] # 행의 갯수 출력\n",
    "for j in range(0, len(command)):\n",
    "    for i in range(0, row_len):\n",
    "        \n",
    "        for a in range(len(j)):\n",
    "        or_list = list(map(str, df.values[i][0].split()))\n",
    "        and_list = list(map(str, df.values[i][1].split()))\n",
    "        print(command[j], or_list, and_list)\n",
    "        # print(or_list, and_list) # [필수 입력 값 리스트] [한개라도 만족하는지 확인하는 리스트]\n",
    "        # print(df.values[i][2]) # [작성한 레시피 확인]"
   ]
  },
  {
   "cell_type": "code",
   "execution_count": 42,
   "metadata": {},
   "outputs": [
    {
     "name": "stdout",
     "output_type": "stream",
     "text": [
      "['라', '면', '이', '먹', '고', '싶', '은', '데', '라', '면', '요', '리', '하', '는', '방', '법', '좀', '알', '려', '줄', '래', '>', '아', '아', '니', '다', '.', '.', '음', '.', '그', '냥', '레', '시', '피', '알', '려', '줘']\n",
      "38\n",
      "command = 요리, rule = 요리\n",
      "command = 레시피, rule = 레시피\n"
     ]
    }
   ],
   "source": [
    "import pandas as pd\n",
    "# 자장면 요리 하는방법 알려줘\n",
    "# pandas 엑셀의 값을 넣으면 df에 저장됨.\n",
    "df = pd.read_excel(\"artest.xlsx\")\n",
    "\n",
    "rule = ['요리', '레시피', '만드는법']\n",
    "command = list(input().split())\n",
    "command_non_space = list(\"\".join(command))\n",
    "print(command_non_space)\n",
    "print(len(command_non_space))\n",
    "\n",
    "for k in rule:\n",
    "    result = [] \n",
    "    for j in range(len(k)):\n",
    "        for i in range(j, len(command_non_space), len(k)):\n",
    "            x = \"\".join(command_non_space[i:i+len(k)])\n",
    "            if k == x:\n",
    "                print(\"command = {}, rule = {}\".format(x, k))\n",
    "            # result.append(\"\".join(command_non_space[i:i+len(k)]))        \n",
    "        # print(result)\n",
    "        # result = []\n",
    "# row_len = df.count()[0] # 행의 갯수 출력\n",
    "# for i in range(0, row_len):\n",
    "#     and_list = list(map(str, df.values[i][1].split()))\n",
    "#     n = command    \n"
   ]
  }
 ],
 "metadata": {
  "kernelspec": {
   "display_name": "Python 3.8.10 64-bit",
   "language": "python",
   "name": "python3"
  },
  "language_info": {
   "codemirror_mode": {
    "name": "ipython",
    "version": 3
   },
   "file_extension": ".py",
   "mimetype": "text/x-python",
   "name": "python",
   "nbconvert_exporter": "python",
   "pygments_lexer": "ipython3",
   "version": "3.8.10"
  },
  "orig_nbformat": 4,
  "vscode": {
   "interpreter": {
    "hash": "916dbcbb3f70747c44a77c7bcd40155683ae19c65e1c03b4aa3499c5328201f1"
   }
  }
 },
 "nbformat": 4,
 "nbformat_minor": 2
}

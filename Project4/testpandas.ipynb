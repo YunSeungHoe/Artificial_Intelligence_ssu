{
 "cells": [
  {
   "cell_type": "code",
   "execution_count": 59,
   "metadata": {},
   "outputs": [
    {
     "name": "stdout",
     "output_type": "stream",
     "text": [
      "['김치찌개'] ['조리', '레시피', '만들', '어떻게', '요리', '방법']\n",
      "김치찌개 요리법\n",
      "필요한 재료 : 김치400g, 대파 2/3대, 청양고추 2개, 두부 1/2모, 찌개용 돼지고기 200g, 국간장 1스푼, 고춧가루 1스푼 반, 간마늘 1스푼, 설탕 1~2스푼, 새우젓 2스푼\n",
      "\n",
      "1. 찌개용 돼지고기 200g에 물 600ml를 붓고 끓입니다. (새우젓 2스푼을 넣으면 더 맛있습니다.)\n",
      "2. 팔팔 끓어오르면 중불로 줄이고 20~30분 푹 끓여주세요.\n",
      "3. 김치, 두부, 대파, 청양고추를 먹기 좋은 사이즈로 잘라주세요. \n",
      "4. 고기 육수 물이 줄어들면 물을 보충하고 김치를 넣어주세요.\n",
      "5. 국간장 1스푼, 고춧가루 1스푼 반, 간마늘 1스푼, 설탕 1~2스푼도 넣어주세요.\n",
      "6. 20~30분 정도 중약불에 끓여주세요.\n",
      "7. 마지막으로 청양고추, 대파, 두부를 넣으면 완성!!!\n",
      "\n"
     ]
    }
   ],
   "source": [
    "import pandas as pd\n",
    "\n",
    "# pandas 엑셀의 값을 넣으면 df에 저장됨.\n",
    "df = pd.read_excel(\"artest.xlsx\")\n",
    "# debug \n",
    "# print(df)\n",
    "\n",
    "# 행의 갯수 출력 / \n",
    "row_len = df.count()[0]\n",
    "\n",
    "for i in range(0, row_len):\n",
    "    or_list = list(map(str, df.values[i][0].split()))\n",
    "    and_list = list(map(str, df.values[i][1].split()))\n",
    "    # debug\n",
    "    # print(or_list, and_list) # [필수 입력 값 리스트] [한개라도 만족하는지 확인하는 리스트]\n",
    "    # print(df.values[i][2]) # [작성한 레시피 확인]"
   ]
  }
 ],
 "metadata": {
  "kernelspec": {
   "display_name": "Python 3.9.12 ('base')",
   "language": "python",
   "name": "python3"
  },
  "language_info": {
   "codemirror_mode": {
    "name": "ipython",
    "version": 3
   },
   "file_extension": ".py",
   "mimetype": "text/x-python",
   "name": "python",
   "nbconvert_exporter": "python",
   "pygments_lexer": "ipython3",
   "version": "3.9.12"
  },
  "orig_nbformat": 4,
  "vscode": {
   "interpreter": {
    "hash": "d53987ecb595d47b858fb20818fc57333593e153a0e3e1d0f7ed0487b17d3604"
   }
  }
 },
 "nbformat": 4,
 "nbformat_minor": 2
}
